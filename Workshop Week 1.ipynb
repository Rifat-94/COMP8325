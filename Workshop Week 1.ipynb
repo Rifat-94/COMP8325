{
 "cells": [
  {
   "cell_type": "markdown",
   "metadata": {},
   "source": [
    "# COMP8325 Week 1 Workshop"
   ]
  },
  {
   "cell_type": "markdown",
   "metadata": {},
   "source": [
    "In Week 1 practical, our goal is to get familiar with tools we will be using throughout the semester to implement learnt concept from lectures. \n",
    "\n",
    "We will use [**Python**](https://www.python.org/) as a programming language for this unit. Python is one of the most sought after programming language as per Popularity of programming index [PYPL PopularitY of Programming Language](https://pypl.github.io/PYPL.html)\n",
    "\n",
    "We will be using [**Jupyter Notebook**](https://jupyter.org/) which is a free, open-source, interactive web tool that mixes text, code, and output of the code. Every week, we will provide you workshop notebook with instructions and questions which you have to work on. Below each question you will find space (cell in notebook) where you write code and execute it to get the output.\n",
    "\n",
    "To maintain our codebase, we will be using [**Git**](https://git-scm.com/) which is a free and open source distributed version control system (DVCS) designed to handle everything from small to very large projects with speed and efficiency. We will maintain a [**Github**](https://github.com/) repository, which is an internet repository hosting service provider for software development and version control using Git tools."
   ]
  },
  {
   "cell_type": "markdown",
   "metadata": {},
   "source": [
    "## Python data structures"
   ]
  },
  {
   "cell_type": "markdown",
   "metadata": {},
   "source": [
    "Python provides standard set of data structures in its library. Each data structure provides a particular way of organizing data so it can be accessed efficiently, depending on your use case."
   ]
  },
  {
   "cell_type": "markdown",
   "metadata": {},
   "source": [
    "### Python List"
   ]
  },
  {
   "cell_type": "markdown",
   "metadata": {},
   "source": [
    "In the cell below, there are three list. Our goal is to access elements from the list. \n",
    "- Get first element from each list\n",
    "- Get last element from each list\n",
    "- Get third and fourth element from each list"
   ]
  },
  {
   "cell_type": "code",
   "execution_count": 55,
   "metadata": {},
   "outputs": [],
   "source": [
    "import re"
   ]
  },
  {
   "cell_type": "code",
   "execution_count": 2,
   "metadata": {},
   "outputs": [],
   "source": [
    "friends_list = [\"Sam\", \"Luke\", \"Ariana\", \"Tim\", \"Peter\", \"Samantha\"]\n",
    "fruits = [\"apple\", \"orange\", \"pear\", \"grapes\", \"pineapple\", \"papaya\", \"banana\"]\n",
    "capital_cities = [\"Sydney\", \"Melbourne\", \"Brisbane\", \"Perth\", \"Adelaide\", \"Darwin\", \"Hobart\"]"
   ]
  },
  {
   "cell_type": "code",
   "execution_count": 4,
   "metadata": {},
   "outputs": [
    {
     "name": "stdout",
     "output_type": "stream",
     "text": [
      "Sam\n",
      "apple\n",
      "Sydney\n"
     ]
    }
   ],
   "source": [
    "print(friends_list[0])\n",
    "print(fruits[0])\n",
    "print(capital_cities[0])"
   ]
  },
  {
   "cell_type": "code",
   "execution_count": 6,
   "metadata": {},
   "outputs": [
    {
     "name": "stdout",
     "output_type": "stream",
     "text": [
      "Samantha\n",
      "banana\n",
      "Hobart\n"
     ]
    }
   ],
   "source": [
    "print(friends_list[-1])\n",
    "print(fruits[-1])\n",
    "print(capital_cities[-1])"
   ]
  },
  {
   "cell_type": "code",
   "execution_count": 9,
   "metadata": {},
   "outputs": [
    {
     "name": "stdout",
     "output_type": "stream",
     "text": [
      "Ariana Tim\n",
      "pear grapes\n",
      "Brisbane Perth\n"
     ]
    }
   ],
   "source": [
    "print(friends_list[2], friends_list[3])\n",
    "print(fruits[2], fruits[3])\n",
    "print(capital_cities[2], capital_cities[3])"
   ]
  },
  {
   "cell_type": "markdown",
   "metadata": {},
   "source": [
    "### Python Dictionary"
   ]
  },
  {
   "cell_type": "markdown",
   "metadata": {},
   "source": [
    "A dictionary is a collection of items. Each item in a dictionary is stored as a key-value pair. \n",
    "In the cell below, there are three dictionaries. Our goal is to retrieve value based on the key information.\n",
    "- Get the capital of South Australia (SA)\n",
    "- Get the address of the employee\n",
    "- Get marks obtained by student for the unit ISYS545"
   ]
  },
  {
   "cell_type": "code",
   "execution_count": 11,
   "metadata": {},
   "outputs": [],
   "source": [
    "capital = {'NSW': 'Sydney', 'VIC': 'Melbourne', 'SA': 'Adelaide', 'WA': 'Perth', 'QLD': 'Brisbane'}\n",
    "employee = {'name': 'John Citizen', 'age': 47, 'Address': '37 Sydney Street, NSW'}\n",
    "unit_marks = {'COMP8325': 88, 'COMP2345': 92, 'ISYS545': 72, 'COMP8472': 85}"
   ]
  },
  {
   "cell_type": "code",
   "execution_count": 12,
   "metadata": {},
   "outputs": [
    {
     "data": {
      "text/plain": [
       "'Adelaide'"
      ]
     },
     "execution_count": 12,
     "metadata": {},
     "output_type": "execute_result"
    }
   ],
   "source": [
    "capital['SA']"
   ]
  },
  {
   "cell_type": "code",
   "execution_count": 15,
   "metadata": {},
   "outputs": [
    {
     "data": {
      "text/plain": [
       "'37 Sydney Street, NSW'"
      ]
     },
     "execution_count": 15,
     "metadata": {},
     "output_type": "execute_result"
    }
   ],
   "source": [
    "employee['Address']"
   ]
  },
  {
   "cell_type": "code",
   "execution_count": 16,
   "metadata": {},
   "outputs": [
    {
     "data": {
      "text/plain": [
       "72"
      ]
     },
     "execution_count": 16,
     "metadata": {},
     "output_type": "execute_result"
    }
   ],
   "source": [
    "unit_marks['ISYS545']"
   ]
  },
  {
   "cell_type": "markdown",
   "metadata": {},
   "source": [
    "### Python String"
   ]
  },
  {
   "cell_type": "markdown",
   "metadata": {},
   "source": [
    "A string is a sequence of characters enclosed either inside single quotes, double quotes, or even triple quotes. If string is long and encompasses multiline, we generally use triple quotes to represent it. Python has a set of built-in methods that you can use on strings. A non-exhaustive list can be found [here](https://www.w3schools.com/python/python_ref_string.asp).\n",
    "\n",
    "Below, we create three strings to represent unit code, unit name, and its description. Note we are using different set of quotes to represent strings and they are equivalent in terms of representing strings in Python."
   ]
  },
  {
   "cell_type": "code",
   "execution_count": 17,
   "metadata": {},
   "outputs": [],
   "source": [
    "code = \"COMP8325\"\n",
    "title = \"Applications of Artificial Intelligence for Cyber Security\"\n",
    "description = \"\"\"This unit deals with the applications of Artificial Intelligence \n",
    "                in the field of Cyber Security. Topics covered include machine learning-based \n",
    "                intrusion detection systems, malware detection, AI as a service, digital forensics, \n",
    "                incident response leveraging SIEM data. Special attention will be given to the \n",
    "                concept of adversarial machine learning.\"\"\""
   ]
  },
  {
   "cell_type": "markdown",
   "metadata": {},
   "source": [
    "For each of the given strings, get list of words using [split()](https://docs.python.org/3/library/stdtypes.html) method and count number of words to get length of each string."
   ]
  },
  {
   "cell_type": "code",
   "execution_count": 20,
   "metadata": {
    "scrolled": true
   },
   "outputs": [
    {
     "name": "stdout",
     "output_type": "stream",
     "text": [
      "8\n",
      "58\n",
      "414\n"
     ]
    }
   ],
   "source": [
    "print(len(code))\n",
    "print(len(title))\n",
    "print(len(description))"
   ]
  },
  {
   "cell_type": "code",
   "execution_count": 21,
   "metadata": {},
   "outputs": [
    {
     "name": "stdout",
     "output_type": "stream",
     "text": [
      "1\n",
      "7\n",
      "48\n"
     ]
    }
   ],
   "source": [
    "print(len(code.split()))\n",
    "print(len(title.split()))\n",
    "print(len(description.split()))"
   ]
  },
  {
   "cell_type": "markdown",
   "metadata": {},
   "source": [
    "When counting length of a string, it is important that you convert string to lower case so that word `The` and `the` are considered as same word. It is because Python is a case sensitive language and treat variable differently depending on how we define it."
   ]
  },
  {
   "cell_type": "markdown",
   "metadata": {},
   "source": [
    "Convert the above string to lower case using lower() function and check whether you see any difference in terms of its length. To find out build-in function for converting string to lower case, check Python 3 documentation."
   ]
  },
  {
   "cell_type": "code",
   "execution_count": 19,
   "metadata": {},
   "outputs": [
    {
     "data": {
      "text/plain": [
       "43"
      ]
     },
     "execution_count": 19,
     "metadata": {},
     "output_type": "execute_result"
    }
   ],
   "source": [
    "description_lower = description.lower()\n",
    "unique_words = set(description_lower.split())\n",
    "len(unique_words)"
   ]
  },
  {
   "cell_type": "markdown",
   "metadata": {},
   "source": [
    "In real-world applications, we do not get very clean text data. You can imagine how Twitter data can be noisy. To give you an idea, we define a string containing various punctuation. Using Regular Expression (regex, in short), try to clean the given noisy string. You can find [this regex tutorial](https://regexone.com/) helpful for this exercise."
   ]
  },
  {
   "cell_type": "code",
   "execution_count": 34,
   "metadata": {},
   "outputs": [],
   "source": [
    "noisy_string = \"Th!is ?is a$ s@en!!te?!nce.\""
   ]
  },
  {
   "cell_type": "code",
   "execution_count": 35,
   "metadata": {},
   "outputs": [
    {
     "data": {
      "text/plain": [
       "'This is a sentence'"
      ]
     },
     "execution_count": 35,
     "metadata": {},
     "output_type": "execute_result"
    }
   ],
   "source": [
    "clean_string = re.sub(\"[^\\w\\s]\", \"\", noisy_string)\n",
    "clean_string"
   ]
  },
  {
   "cell_type": "markdown",
   "metadata": {},
   "source": [
    "### Python Tuples"
   ]
  },
  {
   "cell_type": "markdown",
   "metadata": {},
   "source": [
    "Tuples are also Python built-in data types which are immutable. Once defined, no element can be added or deleted from a tuple. This functionality is useful in situations where you might want someone to process data but don't want to manipulate it. We define tuples by placing round brackets around the data elements. Tuple items are indexed with first item having index [0], second item having index [1], and so on."
   ]
  },
  {
   "cell_type": "code",
   "execution_count": 36,
   "metadata": {},
   "outputs": [],
   "source": [
    "automotive_brands = (\"Nissan\", \"Toyota\", \"Mitsubishi\", \"BMW\", \"Ford\", \"Audi\")"
   ]
  },
  {
   "cell_type": "markdown",
   "metadata": {},
   "source": [
    "Get first and fourth element in the tuple defined above"
   ]
  },
  {
   "cell_type": "code",
   "execution_count": 37,
   "metadata": {},
   "outputs": [
    {
     "name": "stdout",
     "output_type": "stream",
     "text": [
      "Nissan BMW\n"
     ]
    }
   ],
   "source": [
    "print(automotive_brands[0], automotive_brands[3])"
   ]
  },
  {
   "cell_type": "markdown",
   "metadata": {},
   "source": [
    "## Python control structures"
   ]
  },
  {
   "cell_type": "markdown",
   "metadata": {},
   "source": [
    "In the cell below, I have copied excerpt from *Repetition*, a book written by Peter Handke, Nobel Laureate for Literature in 2019 [Source](https://www.nobelprize.org/prizes/literature/2019/handke/prose/). The goal here is to provide you understanding of various Python control structures. Follow along the questions to work on this."
   ]
  },
  {
   "cell_type": "code",
   "execution_count": 38,
   "metadata": {},
   "outputs": [],
   "source": [
    "text = \"\"\"Alone during the day, in my room or out of doors, I thought аbout the waiter more \n",
    "          than about my раrеnts; as I now realize, it was а kind of love. I had nо desire for \n",
    "          contact, I wanted only to bе near him, and I missed him on his day off. When he finally \n",
    "          reappeared, his black-and-white attire brought lifе into the rооm and I acquired а sense \n",
    "          of color. Не always kept his distance, even when off duty, and that may have accounted for \n",
    "          my affection. Оnе day I ran into him in his street clothes at the bus-station buffet, \n",
    "          now in the role of а guest, and there was no difference between the waiter at the hotel \n",
    "          and the young man in the gray suit with а raincoat over his аrm, resting оnе foot on the \n",
    "          railing and slowly munching а sausage while watching the departing buses. And perhaps \n",
    "          this aloofness in combination with his attentiveness аnd poise were the components of \n",
    "          the beauty that so moved me. Even today, in а predicament, I think about that waiter’s \n",
    "          poise; it doesn’t usually help much, but it brings back his image, and for the moment at \n",
    "          least I regain my composure.\n",
    "          \n",
    "          Тoward midnight, оn my last day in the Black Earth Hotel – all the guests and the cook, too, \n",
    "          had left – I passed the open kitchen on my way to my room аnd saw the waiter sitting bу а \n",
    "          tub full of dishes, using а tablecloth to dry them. Later, when I looked out of my window, \n",
    "          he was standing in his shirtsleeves on the bridge across the torrent, holding а pile of \n",
    "          dishes under his right аrm. With his left hand, he took one after another and with а smooth \n",
    "          graceful movement sent them sailing into the water like so many Frisbees.\"\"\""
   ]
  },
  {
   "cell_type": "markdown",
   "metadata": {},
   "source": [
    "You can use `for` loop to iterate over a sequence. Write a for loop to count how many times does `comma` (,) appear in the text."
   ]
  },
  {
   "cell_type": "code",
   "execution_count": 43,
   "metadata": {},
   "outputs": [
    {
     "name": "stdout",
     "output_type": "stream",
     "text": [
      "23\n"
     ]
    }
   ],
   "source": [
    "count = 0\n",
    "for c in text:\n",
    "    if c == \",\":\n",
    "        count += 1\n",
    "print(count)"
   ]
  },
  {
   "cell_type": "markdown",
   "metadata": {},
   "source": [
    "Using for loop, count how many times word `the` is appearing in the text."
   ]
  },
  {
   "cell_type": "code",
   "execution_count": 47,
   "metadata": {
    "scrolled": true
   },
   "outputs": [
    {
     "name": "stdout",
     "output_type": "stream",
     "text": [
      "['alone', 'during', 'the', 'day,', 'in', 'my', 'room', 'or', 'out', 'of', 'doors,', 'i', 'thought', 'аbout', 'the', 'waiter', 'more', 'than', 'about', 'my', 'раrеnts;', 'as', 'i', 'now', 'realize,', 'it', 'was', 'а', 'kind', 'of', 'love.', 'i', 'had', 'nо', 'desire', 'for', 'contact,', 'i', 'wanted', 'only', 'to', 'bе', 'near', 'him,', 'and', 'i', 'missed', 'him', 'on', 'his', 'day', 'off.', 'when', 'he', 'finally', 'reappeared,', 'his', 'black-and-white', 'attire', 'brought', 'lifе', 'into', 'the', 'rооm', 'and', 'i', 'acquired', 'а', 'sense', 'of', 'color.', 'не', 'always', 'kept', 'his', 'distance,', 'even', 'when', 'off', 'duty,', 'and', 'that', 'may', 'have', 'accounted', 'for', 'my', 'affection.', 'оnе', 'day', 'i', 'ran', 'into', 'him', 'in', 'his', 'street', 'clothes', 'at', 'the', 'bus-station', 'buffet,', 'now', 'in', 'the', 'role', 'of', 'а', 'guest,', 'and', 'there', 'was', 'no', 'difference', 'between', 'the', 'waiter', 'at', 'the', 'hotel', 'and', 'the', 'young', 'man', 'in', 'the', 'gray', 'suit', 'with', 'а', 'raincoat', 'over', 'his', 'аrm,', 'resting', 'оnе', 'foot', 'on', 'the', 'railing', 'and', 'slowly', 'munching', 'а', 'sausage', 'while', 'watching', 'the', 'departing', 'buses.', 'and', 'perhaps', 'this', 'aloofness', 'in', 'combination', 'with', 'his', 'attentiveness', 'аnd', 'poise', 'were', 'the', 'components', 'of', 'the', 'beauty', 'that', 'so', 'moved', 'me.', 'even', 'today,', 'in', 'а', 'predicament,', 'i', 'think', 'about', 'that', 'waiter’s', 'poise;', 'it', 'doesn’t', 'usually', 'help', 'much,', 'but', 'it', 'brings', 'back', 'his', 'image,', 'and', 'for', 'the', 'moment', 'at', 'least', 'i', 'regain', 'my', 'composure.', 'тoward', 'midnight,', 'оn', 'my', 'last', 'day', 'in', 'the', 'black', 'earth', 'hotel', '–', 'all', 'the', 'guests', 'and', 'the', 'cook,', 'too,', 'had', 'left', '–', 'i', 'passed', 'the', 'open', 'kitchen', 'on', 'my', 'way', 'to', 'my', 'room', 'аnd', 'saw', 'the', 'waiter', 'sitting', 'bу', 'а', 'tub', 'full', 'of', 'dishes,', 'using', 'а', 'tablecloth', 'to', 'dry', 'them.', 'later,', 'when', 'i', 'looked', 'out', 'of', 'my', 'window,', 'he', 'was', 'standing', 'in', 'his', 'shirtsleeves', 'on', 'the', 'bridge', 'across', 'the', 'torrent,', 'holding', 'а', 'pile', 'of', 'dishes', 'under', 'his', 'right', 'аrm.', 'with', 'his', 'left', 'hand,', 'he', 'took', 'one', 'after', 'another', 'and', 'with', 'а', 'smooth', 'graceful', 'movement', 'sent', 'them', 'sailing', 'into', 'the', 'water', 'like', 'so', 'many', 'frisbees.']\n"
     ]
    }
   ],
   "source": [
    "text_lower = text.lower()\n",
    "text_split_withoutlower = text.split()\n",
    "text_split = text_lower.split()\n",
    "print(text_split)"
   ]
  },
  {
   "cell_type": "code",
   "execution_count": 46,
   "metadata": {},
   "outputs": [
    {
     "name": "stdout",
     "output_type": "stream",
     "text": [
      "22\n"
     ]
    }
   ],
   "source": [
    "count = 0\n",
    "for c in text_split:\n",
    "    if c == \"the\":\n",
    "        count += 1\n",
    "print(count)"
   ]
  },
  {
   "cell_type": "code",
   "execution_count": 48,
   "metadata": {},
   "outputs": [
    {
     "name": "stdout",
     "output_type": "stream",
     "text": [
      "22\n"
     ]
    }
   ],
   "source": [
    "count = 0\n",
    "for c in text_split_withoutlower:\n",
    "    if c == \"the\":\n",
    "        count += 1\n",
    "print(count)"
   ]
  },
  {
   "cell_type": "markdown",
   "metadata": {},
   "source": [
    "Find unique number of words in the given text. Note: You need to convert text into lower case, clean the text by removing non-desired punctuations, and consider whether you want to consider words such as `bus-station` as a single word or two words by splitting it based on `-`."
   ]
  },
  {
   "cell_type": "code",
   "execution_count": 53,
   "metadata": {},
   "outputs": [
    {
     "data": {
      "text/plain": [
       "187"
      ]
     },
     "execution_count": 53,
     "metadata": {},
     "output_type": "execute_result"
    }
   ],
   "source": [
    "text_unique = set(text_lower.split())\n",
    "text_unique\n",
    "len(text_unique)"
   ]
  },
  {
   "cell_type": "code",
   "execution_count": 59,
   "metadata": {},
   "outputs": [
    {
     "data": {
      "text/plain": [
       "'Alone during the day in my room or out of doors I thought аbout the waiter more \\n          than about my раrеnts as I now realize it was а kind of love I had nо desire for \\n          contact I wanted only to bе near him and I missed him on his day off When he finally \\n          reappeared his blackandwhite attire brought lifе into the rооm and I acquired а sense \\n          of color Не always kept his distance even when off duty and that may have accounted for \\n          my affection Оnе day I ran into him in his street clothes at the busstation buffet \\n          now in the role of а guest and there was no difference between the waiter at the hotel \\n          and the young man in the gray suit with а raincoat over his аrm resting оnе foot on the \\n          railing and slowly munching а sausage while watching the departing buses And perhaps \\n          this aloofness in combination with his attentiveness аnd poise were the components of \\n          the beauty that so moved me Even today in а predicament I think about that waiters \\n          poise it doesnt usually help much but it brings back his image and for the moment at \\n          least I regain my composure\\n          \\n          Тoward midnight оn my last day in the Black Earth Hotel  all the guests and the cook too \\n          had left  I passed the open kitchen on my way to my room аnd saw the waiter sitting bу а \\n          tub full of dishes using а tablecloth to dry them Later when I looked out of my window \\n          he was standing in his shirtsleeves on the bridge across the torrent holding а pile of \\n          dishes under his right аrm With his left hand he took one after another and with а smooth \\n          graceful movement sent them sailing into the water like so many Frisbees'"
      ]
     },
     "execution_count": 59,
     "metadata": {},
     "output_type": "execute_result"
    }
   ],
   "source": [
    "clean_text = re.sub(\"[^\\w\\s]\", \"\", text)\n",
    "clean_text"
   ]
  },
  {
   "cell_type": "code",
   "execution_count": 63,
   "metadata": {},
   "outputs": [
    {
     "data": {
      "text/plain": [
       "{'about',\n",
       " 'accounted',\n",
       " 'acquired',\n",
       " 'across',\n",
       " 'affection',\n",
       " 'after',\n",
       " 'all',\n",
       " 'alone',\n",
       " 'aloofness',\n",
       " 'always',\n",
       " 'and',\n",
       " 'another',\n",
       " 'as',\n",
       " 'at',\n",
       " 'attentiveness',\n",
       " 'attire',\n",
       " 'back',\n",
       " 'beauty',\n",
       " 'between',\n",
       " 'black',\n",
       " 'blackandwhite',\n",
       " 'bridge',\n",
       " 'brings',\n",
       " 'brought',\n",
       " 'buffet',\n",
       " 'buses',\n",
       " 'busstation',\n",
       " 'but',\n",
       " 'bе',\n",
       " 'bу',\n",
       " 'clothes',\n",
       " 'color',\n",
       " 'combination',\n",
       " 'components',\n",
       " 'composure',\n",
       " 'contact',\n",
       " 'cook',\n",
       " 'day',\n",
       " 'departing',\n",
       " 'desire',\n",
       " 'difference',\n",
       " 'dishes',\n",
       " 'distance',\n",
       " 'doesnt',\n",
       " 'doors',\n",
       " 'dry',\n",
       " 'during',\n",
       " 'duty',\n",
       " 'earth',\n",
       " 'even',\n",
       " 'finally',\n",
       " 'foot',\n",
       " 'for',\n",
       " 'frisbees',\n",
       " 'full',\n",
       " 'graceful',\n",
       " 'gray',\n",
       " 'guest',\n",
       " 'guests',\n",
       " 'had',\n",
       " 'hand',\n",
       " 'have',\n",
       " 'he',\n",
       " 'help',\n",
       " 'him',\n",
       " 'his',\n",
       " 'holding',\n",
       " 'hotel',\n",
       " 'i',\n",
       " 'image',\n",
       " 'in',\n",
       " 'into',\n",
       " 'it',\n",
       " 'kept',\n",
       " 'kind',\n",
       " 'kitchen',\n",
       " 'last',\n",
       " 'later',\n",
       " 'least',\n",
       " 'left',\n",
       " 'lifе',\n",
       " 'like',\n",
       " 'looked',\n",
       " 'love',\n",
       " 'man',\n",
       " 'many',\n",
       " 'may',\n",
       " 'me',\n",
       " 'midnight',\n",
       " 'missed',\n",
       " 'moment',\n",
       " 'more',\n",
       " 'moved',\n",
       " 'movement',\n",
       " 'much',\n",
       " 'munching',\n",
       " 'my',\n",
       " 'near',\n",
       " 'no',\n",
       " 'now',\n",
       " 'nо',\n",
       " 'of',\n",
       " 'off',\n",
       " 'on',\n",
       " 'one',\n",
       " 'only',\n",
       " 'open',\n",
       " 'or',\n",
       " 'out',\n",
       " 'over',\n",
       " 'passed',\n",
       " 'perhaps',\n",
       " 'pile',\n",
       " 'poise',\n",
       " 'predicament',\n",
       " 'railing',\n",
       " 'raincoat',\n",
       " 'ran',\n",
       " 'realize',\n",
       " 'reappeared',\n",
       " 'regain',\n",
       " 'resting',\n",
       " 'right',\n",
       " 'role',\n",
       " 'room',\n",
       " 'rооm',\n",
       " 'sailing',\n",
       " 'sausage',\n",
       " 'saw',\n",
       " 'sense',\n",
       " 'sent',\n",
       " 'shirtsleeves',\n",
       " 'sitting',\n",
       " 'slowly',\n",
       " 'smooth',\n",
       " 'so',\n",
       " 'standing',\n",
       " 'street',\n",
       " 'suit',\n",
       " 'tablecloth',\n",
       " 'than',\n",
       " 'that',\n",
       " 'the',\n",
       " 'them',\n",
       " 'there',\n",
       " 'think',\n",
       " 'this',\n",
       " 'thought',\n",
       " 'to',\n",
       " 'today',\n",
       " 'too',\n",
       " 'took',\n",
       " 'torrent',\n",
       " 'tub',\n",
       " 'under',\n",
       " 'using',\n",
       " 'usually',\n",
       " 'waiter',\n",
       " 'waiters',\n",
       " 'wanted',\n",
       " 'was',\n",
       " 'watching',\n",
       " 'water',\n",
       " 'way',\n",
       " 'were',\n",
       " 'when',\n",
       " 'while',\n",
       " 'window',\n",
       " 'with',\n",
       " 'young',\n",
       " 'а',\n",
       " 'аbout',\n",
       " 'аnd',\n",
       " 'аrm',\n",
       " 'не',\n",
       " 'оn',\n",
       " 'оnе',\n",
       " 'раrеnts',\n",
       " 'тoward'}"
      ]
     },
     "execution_count": 63,
     "metadata": {},
     "output_type": "execute_result"
    }
   ],
   "source": [
    "text_lower_clean = clean_text.lower()\n",
    "text_unique = set(text_lower_clean.split())\n",
    "text_unique\n"
   ]
  },
  {
   "cell_type": "code",
   "execution_count": 64,
   "metadata": {},
   "outputs": [
    {
     "data": {
      "text/plain": [
       "179"
      ]
     },
     "execution_count": 64,
     "metadata": {},
     "output_type": "execute_result"
    }
   ],
   "source": [
    "len(text_unique)"
   ]
  },
  {
   "cell_type": "markdown",
   "metadata": {},
   "source": [
    "After finishing this workshop, commit your work to your Github repository. Show your finished and committed notebook on Github to your tutor."
   ]
  }
 ],
 "metadata": {
  "kernelspec": {
   "display_name": "Python 3",
   "language": "python",
   "name": "python3"
  },
  "language_info": {
   "codemirror_mode": {
    "name": "ipython",
    "version": 3
   },
   "file_extension": ".py",
   "mimetype": "text/x-python",
   "name": "python",
   "nbconvert_exporter": "python",
   "pygments_lexer": "ipython3",
   "version": "3.7.4"
  }
 },
 "nbformat": 4,
 "nbformat_minor": 2
}
